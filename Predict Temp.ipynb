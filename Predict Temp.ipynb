{
 "cells": [
  {
   "cell_type": "code",
   "execution_count": 218,
   "id": "liquid-trace",
   "metadata": {
    "scrolled": true
   },
   "outputs": [
    {
     "name": "stdout",
     "output_type": "stream",
     "text": [
      "Accuracy: 0.9967948717948718/1.0\n",
      "Predictions: [26 25 25 26 25 25 25 25 25 26 26 25 25 25 25 25 25 25 25 25 25 25 25 25\n",
      " 25 25 26 25 25 25 25 25 26 25 25 25 25 26 25 25 25 25 25 25 25 25 25 25\n",
      " 25 25 25 26 25 26 25 25 25 26 25 25 25 25 26 25 26 25 25 25 25 25 25 26\n",
      " 26 25 25 26 25 26 26 25 25 25 25 25 25 26 25 26 25 25 25 25 25 25 26 25\n",
      " 26 26 26 25 25 25 25 26 25 25 25 26 25 25 25 26 26 25 25 25 25 26 25 25\n",
      " 25 26 25 25 25 25 25 25 25 25 26 25 25 25 26 25 25 25 25 25 26 25 25 25\n",
      " 25 25 25 25 25 25 26 25 25 25 25 25 26 25 25 25 25 25 25 26 25 25 25 25\n",
      " 25 25 25 26 25 25 25 26 25 25 26 25 25 25 25 26 25 25 25 25 26 26 26 25\n",
      " 25 25 25 26 25 25 25 26 26 26 26 26 25 26 25 25 26 25 25 25 25 25 25 25\n",
      " 25 25 25 25 26 25 25 25 26 25 25 25 25 25 25 25 25 25 25 25 25 25 25 25\n",
      " 26 25 25 25 25 26 25 25 25 25 25 25 26 25 25 25 26 25 25 25 25 25 25 26\n",
      " 26 26 26 25 25 25 26 25 25 26 25 25 25 25 25 25 25 25 25 25 25 25 25 25\n",
      " 25 26 26 25 25 25 25 25 25 25 25 25 25 25 25 26 25 25 25 25 26 25 25 25]\n",
      "\n",
      "Average Temperature: 25.21153846153846\n"
     ]
    }
   ],
   "source": [
    "import pandas as pd\n",
    "import numpy as np\n",
    "import sklearn\n",
    "from sklearn import datasets, svm, metrics\n",
    "\n",
    "data = pd.read_csv(\"temp-data.csv\")\n",
    "\n",
    "predict = \"temp\"\n",
    "\n",
    "X = np.array(data.drop([predict], 1))\n",
    "y = np.array(data[predict])\n",
    "\n",
    "# y.reshape(1, -1)\n",
    "\n",
    "x_train, x_test, y_train, y_test = sklearn.model_selection.train_test_split(X, y, test_size=0.1)\n",
    "\n",
    "clf = svm.SVC(kernel=\"rbf\", C=100)\n",
    "clf.fit(x_train, y_train)\n",
    "\n",
    "y_pred = clf.predict(x_test)\n",
    "\n",
    "\n",
    "acc = metrics.accuracy_score(y_test, y_pred)\n",
    "print(f\"Accuracy: {acc}/1.0\\nPredictions: {y_pred}\\n\")\n",
    "print(f\"Average Temperature: {np.mean(y_pred)}\")"
   ]
  },
  {
   "cell_type": "code",
   "execution_count": 230,
   "id": "resident-mounting",
   "metadata": {},
   "outputs": [
    {
     "data": {
      "text/plain": [
       "<AxesSubplot:title={'center':'Temperature'}, ylabel='Density'>"
      ]
     },
     "execution_count": 230,
     "metadata": {},
     "output_type": "execute_result"
    }
   ],
   "source": [
    "predictions_df = pd.DataFrame(data=y_pred.flatten())\n",
    "X_df = pd.DataFrame(data=X.flatten())\n",
    "predictions_df.plot(title=\"Temperature\", kind=\"kde\", fontsize=10)"
   ]
  }
 ],
 "metadata": {
  "kernelspec": {
   "display_name": "Python 3",
   "language": "python",
   "name": "python3"
  },
  "language_info": {
   "codemirror_mode": {
    "name": "ipython",
    "version": 3
   },
   "file_extension": ".py",
   "mimetype": "text/x-python",
   "name": "python",
   "nbconvert_exporter": "python",
   "pygments_lexer": "ipython3",
   "version": "3.8.8"
  }
 },
 "nbformat": 4,
 "nbformat_minor": 5
}
